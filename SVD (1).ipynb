{
 "cells": [
  {
   "cell_type": "code",
   "execution_count": 1,
   "metadata": {},
   "outputs": [],
   "source": [
    "import numpy as np\n",
    "import pandas as pd\n",
    "from datetime import datetime\n",
    "import matplotlib.pyplot as plt"
   ]
  },
  {
   "cell_type": "code",
   "execution_count": 2,
   "metadata": {},
   "outputs": [],
   "source": [
    "df = pd.read_csv('IQDS_interpol_30.csv')"
   ]
  },
  {
   "cell_type": "code",
   "execution_count": 3,
   "metadata": {},
   "outputs": [],
   "source": [
    "X = np.array(df[df.columns[2]])\n",
    "X = X[109855 - 720 * 9: 109855]\n",
    "y = np.array(df[df.columns[2]])\n",
    "X_train = np.zeros((720, 9))\n",
    "X_test = np.zeros((720, 3))\n",
    "h = 0\n",
    "for i in range(0, len(X), 720):\n",
    "    for k, j in enumerate(X[i:i + 720]):\n",
    "        X_train[k, h ] = j   \n",
    "    h += 1\n",
    "    \n",
    "X = X[109855 - 720: 109855 +720 * 2]\n",
    "h = 0\n",
    "for i in range(0, len(X), 720):\n",
    "    print(h)\n",
    "    for k, j in enumerate(X[i:i + 720]):\n",
    "        X_test[k, h ] = j \n",
    "    h += 1"
   ]
  },
  {
   "cell_type": "code",
   "execution_count": 4,
   "metadata": {},
   "outputs": [],
   "source": [
    "U,S,Vt = np.linalg.svd(X_train, full_matrices=False)\n",
    "sig = S[0]\n",
    "u1 = U[:, 0]\n",
    "v1 = Vt[0, :]\n",
    "A = sig * u1[:, np.newaxis] @ v1[np.newaxis,: ]"
   ]
  },
  {
   "cell_type": "code",
   "execution_count": null,
   "metadata": {},
   "outputs": [],
   "source": []
  }
 ],
 "metadata": {
  "kernelspec": {
   "display_name": "Python 3",
   "language": "python",
   "name": "python3"
  },
  "language_info": {
   "codemirror_mode": {
    "name": "ipython",
    "version": 3
   },
   "file_extension": ".py",
   "mimetype": "text/x-python",
   "name": "python",
   "nbconvert_exporter": "python",
   "pygments_lexer": "ipython3",
   "version": "3.8.6rc1"
  }
 },
 "nbformat": 4,
 "nbformat_minor": 4
}
